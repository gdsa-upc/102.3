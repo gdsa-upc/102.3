{
 "metadata": {
  "kernelspec": {
   "display_name": "Python 2",
   "language": "python",
   "name": "python2"
  },
  "language_info": {
   "codemirror_mode": {
    "name": "ipython",
    "version": 2
   },
   "file_extension": ".py",
   "mimetype": "text/x-python",
   "name": "python",
   "nbconvert_exporter": "python",
   "pygments_lexer": "ipython2",
   "version": "2.7.9"
  },
  "name": "",
  "signature": "sha256:3fb1e38ea72089612903ece65fc6ca3f3c56b28c6b0332b73841465557102b79"
 },
 "nbformat": 3,
 "nbformat_minor": 0,
 "worksheets": [
  {
   "cells": [
    {
     "cell_type": "code",
     "collapsed": true,
     "input": [
      "import pickle"
     ],
     "language": "python",
     "metadata": {},
     "outputs": [],
     "prompt_number": 4
    },
    {
     "cell_type": "code",
     "collapsed": true,
     "input": [
      "import random"
     ],
     "language": "python",
     "metadata": {},
     "outputs": [],
     "prompt_number": 5
    },
    {
     "cell_type": "code",
     "collapsed": true,
     "input": [
      "labels = ['catedral','mercat_independencia','mnactec','masia_freixa','castell_cartoixa','societat_general','estacio_nord','dona_treballadora','escola_enginyeria','farmacia_albinyana','teatre_principal','ajuntament','desconegut']"
     ],
     "language": "python",
     "metadata": {},
     "outputs": [],
     "prompt_number": 6
    },
    {
     "cell_type": "code",
     "collapsed": true,
     "input": [
      "def classify (valors_id, outdir):\n",
      "    outfile = open(outdir+'/CL.txt','w')\n",
      "    val_id = open(valors_id, 'rb')\n",
      "    mydict = pickle.load(val_id)\n",
      "    print mydict\n",
      "    ides=mydict.keys()\n",
      "\n",
      "    for ids in ides:\n",
      "        outfile.write(ids + \":\" + labels[random.choice(15)] + '\\n')\n",
      "    val_id.close()\n",
      "    outfile.close()\n",
      "    print outfile  "
     ],
     "language": "python",
     "metadata": {},
     "outputs": [],
     "prompt_number": 16
    }
   ],
   "metadata": {}
  }
 ]
}