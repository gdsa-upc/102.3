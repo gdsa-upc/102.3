{
 "cells": [
  {
   "cell_type": "code",
   "execution_count": 2,
   "metadata": {
    "collapsed": true
   },
   "outputs": [
    {
     "ename": "ImportError",
     "evalue": "No module named sklearn.metrics",
     "output_type": "error",
     "traceback": [
      "\u001b[1;31m---------------------------------------------------------------------------\u001b[0m",
      "\u001b[1;31mImportError\u001b[0m                               Traceback (most recent call last)",
      "\u001b[1;32m<ipython-input-2-ad4eb63bf5c3>\u001b[0m in \u001b[0;36m<module>\u001b[1;34m()\u001b[0m\n\u001b[1;32m----> 1\u001b[1;33m \u001b[1;32mfrom\u001b[0m \u001b[0msklearn\u001b[0m\u001b[1;33m.\u001b[0m\u001b[0mmetrics\u001b[0m \u001b[1;32mimport\u001b[0m \u001b[0mconfusion_matrix\u001b[0m\u001b[1;33m\u001b[0m\u001b[0m\n\u001b[0m\u001b[0;32m      2\u001b[0m \u001b[1;32mimport\u001b[0m \u001b[0mnumpy\u001b[0m \u001b[1;32mas\u001b[0m \u001b[0mnp\u001b[0m\u001b[1;33m\u001b[0m\u001b[0m\n\u001b[0;32m      3\u001b[0m \u001b[1;32mfrom\u001b[0m \u001b[0mcollections\u001b[0m \u001b[1;32mimport\u001b[0m \u001b[0mdefaultdict\u001b[0m\u001b[1;33m\u001b[0m\u001b[0m\n",
      "\u001b[1;31mImportError\u001b[0m: No module named sklearn.metrics"
     ]
    }
   ],
   "source": [
    "from sklearn.metrics import confusion_matrix\n",
    "import numpy as np\n",
    "from collections import defaultdict"
   ]
  },
  {
   "cell_type": "code",
   "execution_count": 3,
   "metadata": {
    "collapsed": true
   },
   "outputs": [
    {
     "ename": "SyntaxError",
     "evalue": "invalid syntax (<ipython-input-3-ac7aa7f5ad2b>, line 1)",
     "output_type": "error",
     "traceback": [
      "\u001b[1;36m  File \u001b[1;32m\"<ipython-input-3-ac7aa7f5ad2b>\"\u001b[1;36m, line \u001b[1;32m1\u001b[0m\n\u001b[1;33m    def evaluate_classification(Aut_anot, grown_truth)\u001b[0m\n\u001b[1;37m                                                      ^\u001b[0m\n\u001b[1;31mSyntaxError\u001b[0m\u001b[1;31m:\u001b[0m invalid syntax\n"
     ]
    }
   ],
   "source": [
    "def evaluate_classification(Aut_anot, grown_truth)\n",
    "\n",
    "\n",
    "f=open(Aut_anot, \"r\")\n",
    "lines=f.read().split()\n",
    "f.close()\n",
    " \n",
    "dic_gt={} #crea un diccionari buit\n",
    "for line in lines:\n",
    "    dic_gt[line.split(\" \")[0]]=line.split(\" \")[1]\n",
    "\n",
    "\n",
    "f=open(Aut_anot, \"r\")\n",
    "lines=f.read().split()\n",
    "f.close()\n",
    " \n",
    "dic_aa={} #crea un diccionari buit\n",
    "for line in lines:\n",
    "    dic_aa[line.split(\" \")[0]]=line.split(\" \")[1]\n",
    "\n",
    "#ordenar per edificis per poder fer els calculs per classes\n",
    "expect=defaultdict(list)\n",
    "for v, k in dic_gt: expect[k].append(v)\n",
    "    \n",
    "sorted_input_e = sorted(expect, key=itemgetter(1))\n",
    "groups_expect = groupby(sorted_input_e, key=itemgetter(1))\n",
    "\n",
    "predict=defaultdict(list)\n",
    "for w, j in dic_aa: predict[j].append(w)\n",
    "    \n",
    "sorted_input_p = sorted(predict, key=itemgetter(1))\n",
    "groups_predict = groupby(sorted_input_p, key=itemgetter(1))\n",
    "\n",
    "    \n",
    "\n",
    "#Acuracy\n",
    "Acuracy=accuracy_score(dic_gt, dic_aa)\n",
    "print \"Accuracy of system: %d\" %Acuracy\n",
    "\n",
    "Precision={}\n",
    "Recall={}\n",
    "f1_score={}\n",
    "#classification_report dóna: precision, recall, f1-score i support(que no el necessitem) per cada classe\n",
    "for i in range(13)\n",
    "    classe, prec, rec, f1_s, _ =classification_report(groups_expect[i], groups_predict[i])\n",
    "    Precision[classe]=prec\n",
    "    print \"Classe %d\" %i\n",
    "    print \"Precision: %d: \" %prec\n",
    "    Recall[classe]=rec\n",
    "    print \"Recall: %d: \" %rec\n",
    "    f1_score[classe]=f1_s\n",
    "    print \"f1_Score: %d: \" %f1_s\n",
    "\n",
    "#Average precision\n",
    "print \"Average precision: \"\n",
    "avg_pre=sum(p['value'] for p in Precision) / len(Precision)\n",
    "print avg_pre\n",
    "\n",
    "#Recall\n",
    "print \"Recall: \"\n",
    "Recalltot=len(Recall)/180\n",
    "print \n",
    "\n",
    "#f1_score\n",
    "print \"f1_score: \"\n",
    "print (2*Recalltot*avg_pre)/(Recalltot+avg_pre)\n",
    "\n",
    "\n",
    "#Confusion matrix\n",
    "mc=confusion_matrix(dic_gt, dic_aa)\n",
    "print \"Confusion Matrix: \"\n",
    "print mc"
   ]
  }
 ],
 "metadata": {
  "kernelspec": {
   "display_name": "Python 2",
   "language": "python",
   "name": "python2"
  },
  "language_info": {
   "codemirror_mode": {
    "name": "ipython",
    "version": 2
   },
   "file_extension": ".py",
   "mimetype": "text/x-python",
   "name": "python",
   "nbconvert_exporter": "python",
   "pygments_lexer": "ipython2",
   "version": "2.7.9"
  }
 },
 "nbformat": 4,
 "nbformat_minor": 0
}
