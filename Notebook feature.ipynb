{
 "cells": [
  {
   "cell_type": "markdown",
   "metadata": {},
   "source": [
    "Finalment hem creat una funció Feature_extraction() que ens extreu els punts d'interès i descriptors de totes les imatges d'entrenament i de validació entrena el nostre codebook i crea els fitxers de Bag of words(Bow).\n",
    "Hem anat buscant diverses formes de millorar aquesta funció i finalment hem escollit els següents paràmetres: utilitzem per trobar i computar els punts d'interès el sistema ORB i per agrupar els descriptors al entrenar el codebook utilitzem 1000 clusters. Abans de buscar els punts d'interès hem modificat la mida de les imatges posant de base 300."
   ]
  },
  {
   "cell_type": "code",
   "execution_count": 2,
   "metadata": {
    "collapsed": false
   },
   "outputs": [],
   "source": [
    "from Feature_Extraction import Feature_extraction\n",
    "Feature_extraction()"
   ]
  },
  {
   "cell_type": "code",
   "execution_count": 7,
   "metadata": {
    "collapsed": false,
    "scrolled": false
   },
   "outputs": [
    {
     "name": "stdout",
     "output_type": "stream",
     "text": [
      "927\n"
     ]
    }
   ],
   "source": [
    "from get_local_features_orb import get_local_features_orb\n",
    "from Parametres import parametres\n",
    "from drawmatches import drawMatches\n",
    "import cv2\n",
    "import os\n",
    "import matplotlib.pyplot as plt\n",
    "params = parametres()\n",
    "i1 = cv2.imread('/'.join([params['arrel_entrada'],params['bd_imatges'],'train','images','3607-12343-7554.jpg']),0)\n",
    "i2 = cv2.imread('/'.join([params['arrel_entrada'],params['bd_imatges'],'train','images','14496-8883-17763.jpg']),0)\n",
    "k1,des1=get_local_features_orb('3607-12343-7554.jpg')\n",
    "k2,des2=get_local_features_orb('14496-8883-17763.jpg')\n",
    "bf = cv2.BFMatcher()\n",
    "matches = bf.match(des1,des2)\n",
    "matches = sorted(matches,key=lambda val: val.distance)\n",
    "print len(matches)\n",
    "out = drawMatches(i1, k1, i2, k2, matches[:20])\n",
    "plt.imshow(out)\n",
    "plt.show()"
   ]
  },
  {
   "cell_type": "code",
   "execution_count": null,
   "metadata": {
    "collapsed": true
   },
   "outputs": [],
   "source": []
  }
 ],
 "metadata": {
  "kernelspec": {
   "display_name": "Python 2",
   "language": "python",
   "name": "python2"
  },
  "language_info": {
   "codemirror_mode": {
    "name": "ipython",
    "version": 2
   },
   "file_extension": ".py",
   "mimetype": "text/x-python",
   "name": "python",
   "nbconvert_exporter": "python",
   "pygments_lexer": "ipython2",
   "version": "2.7.9"
  }
 },
 "nbformat": 4,
 "nbformat_minor": 0
}
