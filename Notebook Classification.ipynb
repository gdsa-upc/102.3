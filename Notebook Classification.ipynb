{
 "cells": [
  {
   "cell_type": "markdown",
   "metadata": {},
   "source": [
    "A base de diverses proves hem pogut anar millorant la nostra aplicació per classificar imatges d'edificis de Terrassa. Hem canviat els pesos de les diferents classes a train_classifier per que no ens classifiques tantes imatges a desconegut.\n",
    "Finalment, hem millorat el evaluate_classification per que ens calculi bé com funciona el nostre sistema."
   ]
  },
  {
   "cell_type": "code",
   "execution_count": null,
   "metadata": {
    "collapsed": true
   },
   "outputs": [],
   "source": [
    "from Feature_Extraction import Feature_extraction\n",
    "Feature_extraction()"
   ]
  },
  {
   "cell_type": "code",
   "execution_count": 1,
   "metadata": {
    "collapsed": false
   },
   "outputs": [
    {
     "name": "stdout",
     "output_type": "stream",
     "text": [
      "Accuracy of system:\n",
      "0.461111111111\n",
      "\n",
      "\n",
      "Precision:\n",
      "0.51911976912\n",
      "\n",
      "\n",
      "Recall:\n",
      "0.461111111111\n",
      "\n",
      "\n",
      "f1_Score:\n",
      "0.460082383122\n"
     ]
    }
   ],
   "source": [
    "from train_classifier import train_classifier\n",
    "from classify import classify\n",
    "from evaluate_classification import evaluate_classification\n",
    "train_classifier()\n",
    "classify()\n",
    "evaluate_classification()"
   ]
  },
  {
   "cell_type": "code",
   "execution_count": null,
   "metadata": {
    "collapsed": true
   },
   "outputs": [],
   "source": []
  }
 ],
 "metadata": {
  "kernelspec": {
   "display_name": "Python 2",
   "language": "python",
   "name": "python2"
  },
  "language_info": {
   "codemirror_mode": {
    "name": "ipython",
    "version": 2
   },
   "file_extension": ".py",
   "mimetype": "text/x-python",
   "name": "python",
   "nbconvert_exporter": "python",
   "pygments_lexer": "ipython2",
   "version": "2.7.9"
  }
 },
 "nbformat": 4,
 "nbformat_minor": 0
}
