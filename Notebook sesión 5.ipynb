{
 "cells": [
  {
   "cell_type": "markdown",
   "metadata": {},
   "source": [
    "GDSA 2015: Sessió 5."
   ]
  },
  {
   "cell_type": "markdown",
   "metadata": {},
   "source": [
    "En aquest Notebook es mostraràn els resultats obtinguts amb les funcions fetes en la sesió 4 del projecte. Aquestes funcions son: Parameters, get_local_features, train_codebook, get_assignments y build_bow. Totes aquestes sub-funcions es fan servir dins de la funció Feature_extraction."
   ]
  },
  {
   "cell_type": "markdown",
   "metadata": {},
   "source": [
    "Parameters: Aquesta funció ens permet agafar els paths dels fitxes i imatges que fem servir a les nostres funcions."
   ]
  },
  {
   "cell_type": "code",
   "execution_count": 4,
   "metadata": {
    "collapsed": true
   },
   "outputs": [],
   "source": [
    "import os\n",
    "import numpy as np\n",
    "import pandas as p\n",
    "#sys.path.insert(0,'E:/universidad/GDSA/proyecto/102.3')\n",
    "from Parametres import parametres\n",
    "from Parametres import crea_dirs\n",
    "from Parametres import crea_nou_dir\n",
    "param = parametres()"
   ]
  },
  {
   "cell_type": "code",
   "execution_count": 5,
   "metadata": {
    "collapsed": false
   },
   "outputs": [
    {
     "data": {
      "text/plain": [
       "{'Possibles_edificis': array(['ajuntament', 'castell_cartoixa', 'catedral', 'desconegut',\n",
       "        'dona_treballadora', 'escola_enginyeria', 'estacio_nord',\n",
       "        'farmacia_albinyana', 'masia_freixa', 'mercat_independencia',\n",
       "        'mnactec', 'societat_general', 'teatre_principal'], dtype=object),\n",
       " 'arrel_entrada': 'E:/universidad/GDSA/proyecto',\n",
       " 'arrel_sortida': 'E:/universidad/GDSA/proyecto/carpeta de pruebas',\n",
       " 'bd_imatges': 'Terrassabuildings900/Terrassabuildings900',\n",
       " 'mida_descriptor': 10}"
      ]
     },
     "execution_count": 5,
     "metadata": {},
     "output_type": "execute_result"
    }
   ],
   "source": [
    "param"
   ]
  },
  {
   "cell_type": "markdown",
   "metadata": {
    "collapsed": true
   },
   "source": [
    "get_local_features: Amb aquesta funció obtenim els descriptors locals de les imatges."
   ]
  },
  {
   "cell_type": "code",
   "execution_count": 28,
   "metadata": {
    "collapsed": false
   },
   "outputs": [],
   "source": [
    "from Parametres import parametres\n",
    "import cv2\n",
    "from get_local_features_orb import get_local_features_orb\n",
    "kp,desc = get_local_features_orb('38-29833-926.jpg')"
   ]
  },
  {
   "cell_type": "code",
   "execution_count": 12,
   "metadata": {
    "collapsed": false
   },
   "outputs": [
    {
     "data": {
      "text/plain": [
       "(20, 20)"
      ]
     },
     "execution_count": 12,
     "metadata": {},
     "output_type": "execute_result"
    }
   ],
   "source": [
    "len(kp),len(desc)"
   ]
  },
  {
   "cell_type": "markdown",
   "metadata": {},
   "source": [
    "Aquesta es la longitud de les variables que ens retorna la funció. Nombre de punts i nombre de descriptors."
   ]
  },
  {
   "cell_type": "markdown",
   "metadata": {},
   "source": [
    "train_codebook: A partir de les dades d'entrenament generem els diferents clusters que posteriorment utilitzarem per classificar les imatges"
   ]
  },
  {
   "cell_type": "code",
   "execution_count": 36,
   "metadata": {
    "collapsed": false,
    "scrolled": true
   },
   "outputs": [],
   "source": [
    "import cv2\n",
    "from scipy.cluster.vq import  whiten,kmeans\n",
    "def train_codebook(desc,k):\n",
    "    whitened = whiten(desc[0:5])\n",
    "    #criteria = (cv2.TERM_CRITERIA_EPS + cv2.TERM_CRITERIA_MAX_ITER, 1, 1.0) \n",
    "    #a, b, c= cv2.kmeans(whitened,k,criteria,1,cv2.KMEANS_PP_CENTERS)\n",
    "    #prints de comprovació, esborrar-los\n",
    "    \n",
    "    return kmeans(whitened, k)"
   ]
  },
  {
   "cell_type": "code",
   "execution_count": 44,
   "metadata": {
    "collapsed": false
   },
   "outputs": [
    {
     "ename": "error",
     "evalue": "C:\\pisi\\tmp\\opencv-2.4.9-2\\work\\opencv-2.4.9\\modules\\core\\src\\matrix.cpp:2701: error: (-215) data.dims <= 2 && type == CV_32F && K > 0 in function cv::kmeans\n",
     "output_type": "error",
     "traceback": [
      "\u001b[1;31m---------------------------------------------------------------------------\u001b[0m",
      "\u001b[1;31merror\u001b[0m                                     Traceback (most recent call last)",
      "\u001b[1;32m<ipython-input-44-dcf57abe85cc>\u001b[0m in \u001b[0;36m<module>\u001b[1;34m()\u001b[0m\n\u001b[0;32m      2\u001b[0m \u001b[1;32mfrom\u001b[0m \u001b[0mscipy\u001b[0m\u001b[1;33m.\u001b[0m\u001b[0mcluster\u001b[0m\u001b[1;33m.\u001b[0m\u001b[0mvq\u001b[0m \u001b[1;32mimport\u001b[0m  \u001b[0mwhiten\u001b[0m\u001b[1;33m,\u001b[0m\u001b[0mkmeans\u001b[0m\u001b[1;33m\u001b[0m\u001b[0m\n\u001b[0;32m      3\u001b[0m \u001b[1;32mfrom\u001b[0m \u001b[0mcodebook\u001b[0m \u001b[1;32mimport\u001b[0m \u001b[0mtrain_codebook\u001b[0m\u001b[1;33m\u001b[0m\u001b[0m\n\u001b[1;32m----> 4\u001b[1;33m \u001b[0mw\u001b[0m\u001b[1;33m,\u001b[0m \u001b[0mk\u001b[0m \u001b[1;33m=\u001b[0m \u001b[0mtrain_codebook\u001b[0m\u001b[1;33m(\u001b[0m\u001b[0mdesc\u001b[0m\u001b[1;33m,\u001b[0m\u001b[1;36m4\u001b[0m\u001b[1;33m)\u001b[0m\u001b[1;33m\u001b[0m\u001b[0m\n\u001b[0m",
      "\u001b[1;32mE:\\universidad\\GDSA\\proyecto\\master_mateo\\codebook.pyc\u001b[0m in \u001b[0;36mtrain_codebook\u001b[1;34m(desc, k)\u001b[0m\n\u001b[0;32m      5\u001b[0m     \u001b[0mwhitened\u001b[0m \u001b[1;33m=\u001b[0m \u001b[0mwhiten\u001b[0m\u001b[1;33m(\u001b[0m\u001b[0mdesc\u001b[0m\u001b[1;33m[\u001b[0m\u001b[1;36m0\u001b[0m\u001b[1;33m:\u001b[0m\u001b[1;36m5\u001b[0m\u001b[1;33m]\u001b[0m\u001b[1;33m)\u001b[0m\u001b[1;33m\u001b[0m\u001b[0m\n\u001b[0;32m      6\u001b[0m     \u001b[1;31m#criteria = (cv2.TERM_CRITERIA_EPS + cv2.TERM_CRITERIA_MAX_ITER, 1, 1.0)\u001b[0m\u001b[1;33m\u001b[0m\u001b[1;33m\u001b[0m\u001b[0m\n\u001b[1;32m----> 7\u001b[1;33m     \u001b[1;31m#a, b, c= cv2.kmeans(whitened,k,criteria,1,cv2.KMEANS_PP_CENTERS)\u001b[0m\u001b[1;33m\u001b[0m\u001b[1;33m\u001b[0m\u001b[0m\n\u001b[0m\u001b[0;32m      8\u001b[0m     \u001b[1;31m#prints de comprovació, esborrar-los\u001b[0m\u001b[1;33m\u001b[0m\u001b[1;33m\u001b[0m\u001b[0m\n\u001b[0;32m      9\u001b[0m \u001b[1;33m\u001b[0m\u001b[0m\n",
      "\u001b[1;31merror\u001b[0m: C:\\pisi\\tmp\\opencv-2.4.9-2\\work\\opencv-2.4.9\\modules\\core\\src\\matrix.cpp:2701: error: (-215) data.dims <= 2 && type == CV_32F && K > 0 in function cv::kmeans\n"
     ]
    }
   ],
   "source": [
    "import cv2\n",
    "from scipy.cluster.vq import  whiten,kmeans\n",
    "from codebook import train_codebook\n",
    "w, k = train_codebook(desc,4)"
   ]
  },
  {
   "cell_type": "code",
   "execution_count": 39,
   "metadata": {
    "collapsed": false
   },
   "outputs": [
    {
     "data": {
      "text/plain": [
       "array([[  2.18724413,   0.63139303,   3.41896   ,   1.60540325,\n",
       "          5.4591944 ,   0.81902459,   1.24083838,   3.02043855,\n",
       "          0.46727775,   5.15097522,   3.24143206,   3.57890684,\n",
       "          1.38909296,   2.16688826,   2.83888422,   2.70910401,\n",
       "          0.35798214,   2.80577189,   2.03505653,   2.89084673,\n",
       "          4.89235795,   3.8571104 ,   3.61186696,   0.90306779,\n",
       "          1.61622772,   0.57861681,   2.75999667,  14.93153775,\n",
       "          3.66512691,   2.8451388 ,   3.86525226,   0.42987704],\n",
       "       [  0.23645883,   2.85788423,   2.52105132,   3.30254382,\n",
       "          5.28859458,   3.59460793,   2.76439942,   1.62512727,\n",
       "          3.14350483,   4.59108661,   2.35076829,   0.82845066,\n",
       "          2.21630562,   3.85224579,   1.27036828,   2.89771252,\n",
       "          1.98741806,   0.62760687,   3.51351641,   0.18210058,\n",
       "          1.92837467,   2.12737532,   0.45366445,   2.97768299,\n",
       "          2.81003228,   0.2893084 ,   0.98987222,  13.94342128,\n",
       "          3.18973388,   0.09215024,   4.53058257,   1.7455613 ],\n",
       "       [  0.63055687,   3.27327438,   2.0548295 ,   1.97235256,\n",
       "          4.47215256,   3.0940929 ,   2.59162446,   4.18593387,\n",
       "          1.34519351,   3.47130939,   1.26299042,   1.59062526,\n",
       "          0.5618803 ,   1.94801066,   0.79073944,   0.84016517,\n",
       "          2.49353074,   0.31995644,   1.22625201,   0.45525145,\n",
       "          3.78532805,   1.1332747 ,   2.05021434,   0.52475561,\n",
       "          1.94681975,   2.37736037,   0.30860722,  13.01020017,\n",
       "          2.47664433,   0.93302123,   6.27311433,   3.00913925],\n",
       "       [  2.7783912 ,   2.74157499,   0.3453495 ,   4.10524545,\n",
       "          5.28859458,   3.32159973,   0.58115215,   4.08744131,\n",
       "          2.80366647,   4.36713116,   0.54023868,   0.96100276,\n",
       "          3.10594943,   4.22433771,   3.03332834,   0.63441043,\n",
       "          0.30860529,   0.09844814,   3.37436724,   0.56906432,\n",
       "          4.21385575,   2.30631343,   2.14618182,   0.28068323,\n",
       "          4.37116132,   2.45283213,   0.05822778,  11.96718835,\n",
       "          1.8709016 ,   1.58959172,   4.46721778,   2.78768744]])"
      ]
     },
     "execution_count": 39,
     "metadata": {},
     "output_type": "execute_result"
    }
   ],
   "source": [
    "w"
   ]
  },
  {
   "cell_type": "code",
   "execution_count": 43,
   "metadata": {
    "collapsed": false
   },
   "outputs": [
    {
     "name": "stdout",
     "output_type": "stream",
     "text": [
      "E:\\universidad\\GDSA\\proyecto\\master_mateo\n"
     ]
    }
   ],
   "source": [
    "print os.getcwd()"
   ]
  },
  {
   "cell_type": "code",
   "execution_count": null,
   "metadata": {
    "collapsed": true
   },
   "outputs": [],
   "source": []
  }
 ],
 "metadata": {
  "kernelspec": {
   "display_name": "Python 2",
   "language": "python",
   "name": "python2"
  },
  "language_info": {
   "codemirror_mode": {
    "name": "ipython",
    "version": 2
   },
   "file_extension": ".py",
   "mimetype": "text/x-python",
   "name": "python",
   "nbconvert_exporter": "python",
   "pygments_lexer": "ipython2",
   "version": "2.7.9"
  }
 },
 "nbformat": 4,
 "nbformat_minor": 0
}
