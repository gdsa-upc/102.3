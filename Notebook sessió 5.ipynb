{
 "metadata": {
  "kernelspec": {
   "display_name": "Python 2",
   "language": "python",
   "name": "python2"
  },
  "language_info": {
   "codemirror_mode": {
    "name": "ipython",
    "version": 2
   },
   "file_extension": ".py",
   "mimetype": "text/x-python",
   "name": "python",
   "nbconvert_exporter": "python",
   "pygments_lexer": "ipython2",
   "version": "2.7.9"
  },
  "name": "",
  "signature": "sha256:539f12498513af4c46b50ecca2fdc81a5a71b8761ad62b69e0d3966e2a5f4612"
 },
 "nbformat": 3,
 "nbformat_minor": 0,
 "worksheets": [
  {
   "cells": [
    {
     "cell_type": "markdown",
     "metadata": {},
     "source": [
      "GDSA 2015: Sessi\u00f3 5."
     ]
    },
    {
     "cell_type": "markdown",
     "metadata": {},
     "source": [
      "En aquest Notebook es mostrar\u00e0n els resultats obtinguts amb les funcions fetes en la sesi\u00f3 4 del projecte. Aquestes funcions son: Parameters, get_local_features, train_codebook, get_assignments y build_bow. Totes aquestes sub-funcions es fan servir dins de la funci\u00f3 Feature_extraction."
     ]
    },
    {
     "cell_type": "markdown",
     "metadata": {},
     "source": [
      "Parameters: Aquesta funci\u00f3 ens permet agafar els paths dels fitxes i imatges que fem servir a les nostres funcions."
     ]
    },
    {
     "cell_type": "code",
     "collapsed": true,
     "input": [
      "import os\n",
      "import numpy as np\n",
      "import pandas as p\n",
      "#sys.path.insert(0,'E:/universidad/GDSA/proyecto/102.3')\n",
      "from Parametres import parametres\n",
      "from Parametres import crea_dirs\n",
      "from Parametres import crea_nou_dir\n",
      "param = parametres()"
     ],
     "language": "python",
     "metadata": {},
     "outputs": [],
     "prompt_number": 3
    },
    {
     "cell_type": "code",
     "collapsed": false,
     "input": [
      "param"
     ],
     "language": "python",
     "metadata": {},
     "outputs": [
      {
       "metadata": {},
       "output_type": "pyout",
       "prompt_number": 4,
       "text": [
        "{'Possibles_edificis': array(['ajuntament', 'castell_cartoixa', 'catedral', 'desconegut',\n",
        "        'dona_treballadora', 'escola_enginyeria', 'estacio_nord',\n",
        "        'farmacia_albinyana', 'masia_freixa', 'mercat_independencia',\n",
        "        'mnactec', 'societat_general', 'teatre_principal'], dtype=object),\n",
        " 'arrel_entrada': 'E:/universidad/GDSA/proyecto',\n",
        " 'arrel_sortida': 'E:/universidad/GDSA/proyecto/carpeta de pruebas',\n",
        " 'bd_imatges': 'Terrassabuildings900/Terrassabuildings900',\n",
        " 'mida_descriptor': 10}"
       ]
      }
     ],
     "prompt_number": 4
    },
    {
     "cell_type": "markdown",
     "metadata": {
      "collapsed": true
     },
     "source": [
      "get_local_features: Amb aquesta funci\u00f3 obtenim els descriptors locals de les imatges."
     ]
    },
    {
     "cell_type": "code",
     "collapsed": false,
     "input": [
      "from Parametres import parametres\n",
      "import cv2\n",
      "from get_local_features_orb import get_local_features_orb\n",
      "kp,desc = get_local_features_orb('38-29833-926.jpg')"
     ],
     "language": "python",
     "metadata": {},
     "outputs": [],
     "prompt_number": 5
    },
    {
     "cell_type": "code",
     "collapsed": false,
     "input": [
      "len(kp),len(desc)"
     ],
     "language": "python",
     "metadata": {},
     "outputs": [
      {
       "metadata": {},
       "output_type": "pyout",
       "prompt_number": 6,
       "text": [
        "(20, 20)"
       ]
      }
     ],
     "prompt_number": 6
    },
    {
     "cell_type": "markdown",
     "metadata": {},
     "source": [
      "Aquesta es la longitud de les variables que ens retorna la funci\u00f3. Nombre de punts i nombre de descriptors."
     ]
    },
    {
     "cell_type": "markdown",
     "metadata": {},
     "source": [
      "train_codebook: A partir de les dades d'entrenament generem els diferents clusters que posteriorment utilitzarem per classificar les imatges"
     ]
    },
    {
     "cell_type": "code",
     "collapsed": false,
     "input": [
      "import cv2\n",
      "from scipy.cluster.vq import  whiten,kmeans\n",
      "def train_codebook(desc,k):\n",
      "    whitened = whiten(desc[0:5])\n",
      "    #criteria = (cv2.TERM_CRITERIA_EPS + cv2.TERM_CRITERIA_MAX_ITER, 1, 1.0) \n",
      "    #a, b, c= cv2.kmeans(whitened,k,criteria,1,cv2.KMEANS_PP_CENTERS)\n",
      "    #prints de comprovaci\u00f3, esborrar-los\n",
      "    \n",
      "    return kmeans(whitened, k)"
     ],
     "language": "python",
     "metadata": {
      "scrolled": true
     },
     "outputs": [],
     "prompt_number": 7
    },
    {
     "cell_type": "code",
     "collapsed": false,
     "input": [
      "\n",
      "w, k = train_codebook(desc,100)"
     ],
     "language": "python",
     "metadata": {},
     "outputs": [],
     "prompt_number": 32
    },
    {
     "cell_type": "code",
     "collapsed": false,
     "input": [
      "w"
     ],
     "language": "python",
     "metadata": {},
     "outputs": [
      {
       "metadata": {},
       "output_type": "pyout",
       "prompt_number": 33,
       "text": [
        "array([[  0.23645883,   2.85788423,   2.52105132,   3.30254382,\n",
        "          5.28859458,   3.59460793,   2.76439942,   1.62512727,\n",
        "          3.14350483,   4.59108661,   2.35076829,   0.82845066,\n",
        "          2.21630562,   3.85224579,   1.27036828,   2.89771252,\n",
        "          1.98741806,   0.62760687,   3.51351641,   0.18210058,\n",
        "          1.92837467,   2.12737532,   0.45366445,   2.97768299,\n",
        "          2.81003228,   0.2893084 ,   0.98987222,  13.94342128,\n",
        "          3.18973388,   0.09215024,   4.53058257,   1.7455613 ],\n",
        "       [  0.63055687,   3.53912407,   2.02029455,   2.45397354,\n",
        "          3.04642545,   3.10926002,   3.34555157,   4.18593387,\n",
        "          1.34519351,   4.66573842,   1.75212544,   1.32552105,\n",
        "          0.84282045,   2.0355617 ,   0.57036943,   0.84016517,\n",
        "          2.67869391,   0.31995644,   1.23494884,   0.36420116,\n",
        "          3.49964291,   1.11339269,   2.00659276,   0.76882798,\n",
        "          1.85498863,   1.98742296,   0.55898667,  12.95530482,\n",
        "          1.24215598,   0.29948829,   6.27311433,   3.06124556],\n",
        "       [  2.7783912 ,   2.74157499,   0.3453495 ,   4.10524545,\n",
        "          5.28859458,   3.32159973,   0.58115215,   4.08744131,\n",
        "          2.80366647,   4.36713116,   0.54023868,   0.96100276,\n",
        "          3.10594943,   4.22433771,   3.03332834,   0.63441043,\n",
        "          0.30860529,   0.09844814,   3.37436724,   0.56906432,\n",
        "          4.21385575,   2.30631343,   2.14618182,   0.28068323,\n",
        "          4.37116132,   2.45283213,   0.05822778,  11.96718835,\n",
        "          1.8709016 ,   1.58959172,   4.46721778,   2.78768744],\n",
        "       [  0.63055687,   3.00742468,   2.08936445,   1.49073159,\n",
        "          5.89787967,   3.07892578,   1.83769734,   4.18593387,\n",
        "          1.34519351,   2.27688035,   0.7738554 ,   1.85572947,\n",
        "          0.28094015,   1.86045962,   1.01110945,   0.84016517,\n",
        "          2.30836756,   0.31995644,   1.21755519,   0.54630174,\n",
        "          4.07101318,   1.15315672,   2.09383592,   0.28068323,\n",
        "          2.03865087,   2.76729779,   0.05822778,  13.06509553,\n",
        "          3.71113268,   1.56655416,   6.27311433,   2.95703294],\n",
        "       [  2.18724413,   0.63139303,   3.41896   ,   1.60540325,\n",
        "          5.4591944 ,   0.81902459,   1.24083838,   3.02043855,\n",
        "          0.46727775,   5.15097522,   3.24143206,   3.57890684,\n",
        "          1.38909296,   2.16688826,   2.83888422,   2.70910401,\n",
        "          0.35798214,   2.80577189,   2.03505653,   2.89084673,\n",
        "          4.89235795,   3.8571104 ,   3.61186696,   0.90306779,\n",
        "          1.61622772,   0.57861681,   2.75999667,  14.93153775,\n",
        "          3.66512691,   2.8451388 ,   3.86525226,   0.42987704]])"
       ]
      }
     ],
     "prompt_number": 33
    },
    {
     "cell_type": "code",
     "collapsed": false,
     "input": [
      "k"
     ],
     "language": "python",
     "metadata": {},
     "outputs": [
      {
       "metadata": {},
       "output_type": "pyout",
       "prompt_number": 34,
       "text": [
        "9.5367431640625005e-08"
       ]
      }
     ],
     "prompt_number": 34
    },
    {
     "cell_type": "markdown",
     "metadata": {},
     "source": [
      "get_assignments: Assigna a cada descriptor un cluster"
     ]
    },
    {
     "cell_type": "code",
     "collapsed": true,
     "input": [
      "from assignment import get_assignments\n",
      "code, dist = get_assignments(desc, w)  "
     ],
     "language": "python",
     "metadata": {},
     "outputs": [],
     "prompt_number": 35
    },
    {
     "cell_type": "code",
     "collapsed": false,
     "input": [
      "code"
     ],
     "language": "python",
     "metadata": {},
     "outputs": [
      {
       "metadata": {},
       "output_type": "pyout",
       "prompt_number": 36,
       "text": [
        "array([1, 2, 3, 4, 0, 1, 1, 2, 2, 1, 1, 1, 1, 1, 1, 1, 3, 1, 1, 1])"
       ]
      }
     ],
     "prompt_number": 36
    },
    {
     "cell_type": "code",
     "collapsed": false,
     "input": [
      "dist"
     ],
     "language": "python",
     "metadata": {},
     "outputs": [
      {
       "metadata": {},
       "output_type": "pyout",
       "prompt_number": 37,
       "text": [
        "array([ 11.94954019,  11.45750848,  12.03573171,  13.98764591,\n",
        "        12.79143022,  14.25302294,  14.7213261 ,  14.83786887,\n",
        "        13.8934981 ,  13.10942282,  14.58602915,  11.98430245,\n",
        "        14.1468994 ,  16.52710356,  12.19912232,  13.23093714,\n",
        "        13.49688568,  13.53252693,  14.47897831,  14.624208  ])"
       ]
      }
     ],
     "prompt_number": 37
    },
    {
     "cell_type": "markdown",
     "metadata": {},
     "source": [
      "build_bow: Construeix un vector Back of Words normalitzat"
     ]
    },
    {
     "cell_type": "code",
     "collapsed": false,
     "input": [
      "import math\n",
      "import numpy\n",
      "from create_bow import build_bow\n",
      "from sklearn import preprocessing\n",
      "c = build_bow(code,4)"
     ],
     "language": "python",
     "metadata": {},
     "outputs": [
      {
       "ename": "TypeError",
       "evalue": "'bool' object is not iterable",
       "output_type": "pyerr",
       "traceback": [
        "\u001b[1;31m---------------------------------------------------------------------------\u001b[0m\n\u001b[1;31mTypeError\u001b[0m                                 Traceback (most recent call last)",
        "\u001b[1;32m<ipython-input-40-bda5927e2486>\u001b[0m in \u001b[0;36m<module>\u001b[1;34m()\u001b[0m\n\u001b[0;32m      3\u001b[0m \u001b[1;32mfrom\u001b[0m \u001b[0mcreate_bow\u001b[0m \u001b[1;32mimport\u001b[0m \u001b[0mbuild_bow\u001b[0m\u001b[1;33m\u001b[0m\u001b[0m\n\u001b[0;32m      4\u001b[0m \u001b[1;32mfrom\u001b[0m \u001b[0msklearn\u001b[0m \u001b[1;32mimport\u001b[0m \u001b[0mpreprocessing\u001b[0m\u001b[1;33m\u001b[0m\u001b[0m\n\u001b[1;32m----> 5\u001b[1;33m \u001b[0mc\u001b[0m \u001b[1;33m=\u001b[0m \u001b[0mbuild_bow\u001b[0m\u001b[1;33m(\u001b[0m\u001b[0mcode\u001b[0m\u001b[1;33m,\u001b[0m\u001b[1;36m4\u001b[0m\u001b[1;33m)\u001b[0m\u001b[1;33m\u001b[0m\u001b[0m\n\u001b[0m",
        "\u001b[1;32mE:\\universidad\\GDSA\\proyecto\\master_mateo\\create_bow.py\u001b[0m in \u001b[0;36mbuild_bow\u001b[1;34m(code, k)\u001b[0m\n\u001b[0;32m      5\u001b[0m     \u001b[0ma\u001b[0m\u001b[1;33m=\u001b[0m\u001b[1;36m0\u001b[0m\u001b[1;33m\u001b[0m\u001b[0m\n\u001b[0;32m      6\u001b[0m     \u001b[0mL2\u001b[0m\u001b[1;33m=\u001b[0m\u001b[1;36m0\u001b[0m\u001b[1;33m\u001b[0m\u001b[0m\n\u001b[1;32m----> 7\u001b[1;33m     \u001b[0mv\u001b[0m\u001b[1;33m=\u001b[0m\u001b[0mnp\u001b[0m\u001b[1;33m.\u001b[0m\u001b[0mbincount\u001b[0m\u001b[1;33m(\u001b[0m\u001b[0mcode\u001b[0m\u001b[1;33m)\u001b[0m\u001b[1;33m\u001b[0m\u001b[0m\n\u001b[0m\u001b[0;32m      8\u001b[0m     \u001b[1;32mprint\u001b[0m \u001b[0mv\u001b[0m\u001b[1;33m\u001b[0m\u001b[0m\n\u001b[0;32m      9\u001b[0m     \u001b[0mvn\u001b[0m\u001b[1;33m=\u001b[0m\u001b[0mpreprocessing\u001b[0m\u001b[1;33m.\u001b[0m\u001b[0mnormalize\u001b[0m\u001b[1;33m(\u001b[0m\u001b[0mv\u001b[0m\u001b[1;33m)\u001b[0m\u001b[1;33m\u001b[0m\u001b[0m\n",
        "\u001b[1;31mTypeError\u001b[0m: 'bool' object is not iterable"
       ]
      }
     ],
     "prompt_number": 40
    },
    {
     "cell_type": "code",
     "collapsed": false,
     "input": [
      "from codebook import train_codebook\n",
      "from Parametres import parametres\n",
      "from assignment import get_assignments\n",
      "from get_local_features_orb import get_local_features_orb\n",
      "from create_bow import build_bow\n",
      "#from get_local_features_sift import get_local_features_sift\n",
      "from build_database import build_database\n",
      "import numpy as np\n",
      "import os \n",
      "from Feature_Extraction import Feature_extraction\n",
      "\n",
      "train_features,query_features=Feature_extraction()"
     ],
     "language": "python",
     "metadata": {},
     "outputs": [
      {
       "ename": "WindowsError",
       "evalue": "[Error 267] The directory name is invalid: 'E:/universidad/GDSA/proyecto/carpeta de pruebas/llista_imgs/ID.txt/*.*'",
       "output_type": "pyerr",
       "traceback": [
        "\u001b[1;31m---------------------------------------------------------------------------\u001b[0m\n\u001b[1;31mWindowsError\u001b[0m                              Traceback (most recent call last)",
        "\u001b[1;32m<ipython-input-20-2e4afa186413>\u001b[0m in \u001b[0;36m<module>\u001b[1;34m()\u001b[0m\n\u001b[0;32m     10\u001b[0m \u001b[1;32mfrom\u001b[0m \u001b[0mFeature_Extraction\u001b[0m \u001b[1;32mimport\u001b[0m \u001b[0mFeature_extraction\u001b[0m\u001b[1;33m\u001b[0m\u001b[0m\n\u001b[0;32m     11\u001b[0m \u001b[1;33m\u001b[0m\u001b[0m\n\u001b[1;32m---> 12\u001b[1;33m \u001b[0mFeature_extraction\u001b[0m\u001b[1;33m(\u001b[0m\u001b[1;33m)\u001b[0m\u001b[1;33m\u001b[0m\u001b[0m\n\u001b[0m",
        "\u001b[1;32mE:\\universidad\\GDSA\\proyecto\\master_mateo\\Feature_Extraction.py\u001b[0m in \u001b[0;36mFeature_extraction\u001b[1;34m()\u001b[0m\n\u001b[0;32m     15\u001b[0m     \u001b[1;31m#build_database('/'.join([params['arrel_entrada'],params['bd_imatges'],'train','images']), '/'.join([params['arrel_sortida'],'llista_imgs']))\u001b[0m\u001b[1;33m\u001b[0m\u001b[1;33m\u001b[0m\u001b[0m\n\u001b[0;32m     16\u001b[0m     \u001b[1;31m#images=open('/'.join([params['arrel_sortida'],'llista_imgs','ID.txt']), \"r\") #obre l'arxiu on hi ha les id's en mode lectura\u001b[0m\u001b[1;33m\u001b[0m\u001b[1;33m\u001b[0m\u001b[0m\n\u001b[1;32m---> 17\u001b[1;33m     \u001b[0mimages\u001b[0m \u001b[1;33m=\u001b[0m \u001b[0mos\u001b[0m\u001b[1;33m.\u001b[0m\u001b[0mlistdir\u001b[0m\u001b[1;33m(\u001b[0m\u001b[1;34m'/'\u001b[0m\u001b[1;33m.\u001b[0m\u001b[0mjoin\u001b[0m\u001b[1;33m(\u001b[0m\u001b[1;33m[\u001b[0m\u001b[0mparams\u001b[0m\u001b[1;33m[\u001b[0m\u001b[1;34m'arrel_entrada'\u001b[0m\u001b[1;33m]\u001b[0m\u001b[1;33m,\u001b[0m\u001b[0mparams\u001b[0m\u001b[1;33m[\u001b[0m\u001b[1;34m'bd_imatges'\u001b[0m\u001b[1;33m]\u001b[0m\u001b[1;33m,\u001b[0m\u001b[1;34m'train'\u001b[0m\u001b[1;33m,\u001b[0m\u001b[1;34m'images'\u001b[0m\u001b[1;33m]\u001b[0m\u001b[1;33m)\u001b[0m\u001b[1;33m)\u001b[0m\u001b[1;33m\u001b[0m\u001b[0m\n\u001b[0m\u001b[0;32m     18\u001b[0m     \u001b[0mdescriptors\u001b[0m\u001b[1;33m=\u001b[0m\u001b[1;33m[\u001b[0m\u001b[1;33m]\u001b[0m\u001b[1;33m\u001b[0m\u001b[0m\n\u001b[0;32m     19\u001b[0m     \u001b[1;31m#per cada vegada que pugui llegir una l\u00ednia (un id) del fitxer executa el loop sencer\u001b[0m\u001b[1;33m\u001b[0m\u001b[1;33m\u001b[0m\u001b[0m\n",
        "\u001b[1;31mWindowsError\u001b[0m: [Error 267] The directory name is invalid: 'E:/universidad/GDSA/proyecto/carpeta de pruebas/llista_imgs/ID.txt/*.*'"
       ]
      }
     ],
     "prompt_number": 20
    },
    {
     "cell_type": "code",
     "collapsed": false,
     "input": [
      "import collections\n",
      "import pickle\n",
      "from scipy.spatial import distance\n",
      "from rank import rank\n",
      "rank(query_features,train_features)"
     ],
     "language": "python",
     "metadata": {},
     "outputs": [
      {
       "ename": "NameError",
       "evalue": "name 'query_features' is not defined",
       "output_type": "pyerr",
       "traceback": [
        "\u001b[1;31m---------------------------------------------------------------------------\u001b[0m\n\u001b[1;31mNameError\u001b[0m                                 Traceback (most recent call last)",
        "\u001b[1;32m<ipython-input-21-084528c34ec4>\u001b[0m in \u001b[0;36m<module>\u001b[1;34m()\u001b[0m\n\u001b[0;32m      3\u001b[0m \u001b[1;32mfrom\u001b[0m \u001b[0mscipy\u001b[0m\u001b[1;33m.\u001b[0m\u001b[0mspatial\u001b[0m \u001b[1;32mimport\u001b[0m \u001b[0mdistance\u001b[0m\u001b[1;33m\u001b[0m\u001b[0m\n\u001b[0;32m      4\u001b[0m \u001b[1;32mfrom\u001b[0m \u001b[0mrank\u001b[0m \u001b[1;32mimport\u001b[0m \u001b[0mrank\u001b[0m\u001b[1;33m\u001b[0m\u001b[0m\n\u001b[1;32m----> 5\u001b[1;33m \u001b[0mrank\u001b[0m\u001b[1;33m(\u001b[0m\u001b[0mquery_features\u001b[0m\u001b[1;33m,\u001b[0m\u001b[0mtrain_features\u001b[0m\u001b[1;33m)\u001b[0m\u001b[1;33m\u001b[0m\u001b[0m\n\u001b[0m",
        "\u001b[1;31mNameError\u001b[0m: name 'query_features' is not defined"
       ]
      }
     ],
     "prompt_number": 21
    },
    {
     "cell_type": "code",
     "collapsed": false,
     "input": [],
     "language": "python",
     "metadata": {},
     "outputs": []
    }
   ],
   "metadata": {}
  }
 ]
}