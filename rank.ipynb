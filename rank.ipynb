{
 "metadata": {
  "kernelspec": {
   "display_name": "Python 2",
   "language": "python",
   "name": "python2"
  },
  "language_info": {
   "codemirror_mode": {
    "name": "ipython",
    "version": 2
   },
   "file_extension": ".py",
   "mimetype": "text/x-python",
   "name": "python",
   "nbconvert_exporter": "python",
   "pygments_lexer": "ipython2",
   "version": "2.7.9"
  },
  "name": "",
  "signature": "sha256:a3c6e0162e642275ddde2250078d1205817aa3b642e7f55d126867492c4d24a1"
 },
 "nbformat": 3,
 "nbformat_minor": 0,
 "worksheets": [
  {
   "cells": [
    {
     "cell_type": "code",
     "collapsed": true,
     "input": [
      "import random"
     ],
     "language": "python",
     "metadata": {},
     "outputs": [],
     "prompt_number": 1
    },
    {
     "cell_type": "code",
     "collapsed": true,
     "input": [
      "import pickle"
     ],
     "language": "python",
     "metadata": {},
     "outputs": [],
     "prompt_number": 2
    },
    {
     "cell_type": "code",
     "collapsed": false,
     "input": [
      "def rank(query_features,train_features,outdir):\n",
      "    ft_in = open(train_features,'rb')#abrimos el fichero pickle de entrenamiento\n",
      "    train =pickle.load(ft_in)\n",
      "    fq_in = open(query_features,'rb')#abrimos el fichero pickle del query\n",
      "    rango = pickle.load(fq_in)\n",
      "    for i in rango.keys():#The method keys() retorna una llista de totes les claus disponibles al diccionari\n",
      "        output = open(outdir+'/'+i+'.txt','w')#ficheros de salida \n",
      "        for j in train.keys():\n",
      "            output.write(random.choice(train.keys())+'\\n')#The method choice() retorna un element aleat\u00f2ri d'una llista\n",
      "        output.close()\n",
      "    ft_in.close()\n",
      "    fq_in.close()"
     ],
     "language": "python",
     "metadata": {},
     "outputs": [],
     "prompt_number": 3
    },
    {
     "cell_type": "code",
     "collapsed": false,
     "input": [],
     "language": "python",
     "metadata": {},
     "outputs": []
    }
   ],
   "metadata": {}
  }
 ]
}