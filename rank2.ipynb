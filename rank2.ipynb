{
 "cells": [
  {
   "cell_type": "code",
   "execution_count": 1,
   "metadata": {
    "collapsed": true
   },
   "outputs": [],
   "source": [
    "import random"
   ]
  },
  {
   "cell_type": "code",
   "execution_count": 2,
   "metadata": {
    "collapsed": true
   },
   "outputs": [],
   "source": [
    "import pickle"
   ]
  },
  {
   "cell_type": "code",
   "execution_count": 3,
   "metadata": {
    "collapsed": true
   },
   "outputs": [],
   "source": [
    "def rank(features_dir,train_features,outdir):\n",
    "    train_in = open(train_features,'rb')#abrimos el fichero pickle de entrenamiento\n",
    "    train =pickle.load(train_in)\n",
    "    ftres_in = open(features_dir,'rb')#abrimos el fichero pickle val o set\n",
    "    rango = pickle.load(ftres_in)\n",
    "    for w in rango.keys():#bucle per no tindre en compte els keys amb valor desconegut\n",
    "        if rango[w]=='desconegut':\n",
    "            del rango[w]\n",
    "    print rango    \n",
    "    for i in rango.keys():#The method keys() returns a list of all the available keys in the dictionary.\n",
    "        output = open(outdir+'/'+i+'.txt','w')#ficheros de salida \n",
    "        print'\\n'+i+':'\n",
    "        for j in train.keys():\n",
    "            f=random.choice(train.keys())\n",
    "            print f\n",
    "            output.write(f+'\\n')#The method choice() returns a random item from a list, tuple, or string.\n",
    "        output.close()\n",
    "    train_in.close()\n",
    "    ftres_in.close()"
   ]
  },
  {
   "cell_type": "code",
   "execution_count": null,
   "metadata": {
    "collapsed": false
   },
   "outputs": [],
   "source": [
    "rank('C:/Users/Oscar/Documents/GitHub/RdE/Val_diccionari.pickle','C:/Users/Oscar/Documents/GitHub/RdE/Train_diccionari.pickle','C:/Users/Oscar/Documents/GitHub/' )"
   ]
  },
  {
   "cell_type": "code",
   "execution_count": null,
   "metadata": {
    "collapsed": true
   },
   "outputs": [],
   "source": []
  }
 ],
 "metadata": {
  "kernelspec": {
   "display_name": "Python 2",
   "language": "python",
   "name": "python2"
  },
  "language_info": {
   "codemirror_mode": {
    "name": "ipython",
    "version": 2
   },
   "file_extension": ".py",
   "mimetype": "text/x-python",
   "name": "python",
   "nbconvert_exporter": "python",
   "pygments_lexer": "ipython2",
   "version": "2.7.9"
  }
 },
 "nbformat": 4,
 "nbformat_minor": 0
}
