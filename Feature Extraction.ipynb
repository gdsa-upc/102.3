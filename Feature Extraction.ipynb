{
 "metadata": {
  "kernelspec": {
   "display_name": "Python 2",
   "language": "python",
   "name": "python2"
  },
  "language_info": {
   "codemirror_mode": {
    "name": "ipython",
    "version": 2
   },
   "file_extension": ".py",
   "mimetype": "text/x-python",
   "name": "python",
   "nbconvert_exporter": "python",
   "pygments_lexer": "ipython2",
   "version": "2.7.9"
  },
  "name": "",
  "signature": "sha256:462a51cd07aaf9dad4a90a3563b0c26c29853f5f9420e6ff243b221dfe3ade72"
 },
 "nbformat": 3,
 "nbformat_minor": 0,
 "worksheets": [
  {
   "cells": [
    {
     "cell_type": "code",
     "collapsed": true,
     "input": [
      "import numpy as np\n",
      "import pickle"
     ],
     "language": "python",
     "metadata": {},
     "outputs": [],
     "prompt_number": 49
    },
    {
     "cell_type": "code",
     "collapsed": true,
     "input": [
      "def extraccio_caract(str):\n",
      "    features=np.random.random_integers(0,100,(1,100))\n",
      "    return features;"
     ],
     "language": "python",
     "metadata": {},
     "outputs": [],
     "prompt_number": 65
    },
    {
     "cell_type": "code",
     "collapsed": false,
     "input": [
      "#def Feature_extraction(dir_imatges, IDs_file, dir_out):\n",
      "def Feature_extraction(IDs_file, dir_out):\n",
      "    #comen\u00e7a la inserci\u00f3 al diccionari\n",
      "    images=open(IDs_file, \"r\") #obre l'arxiu on hi ha les id's en mode lectura\n",
      "\n",
      "    diccionari={} #crea un diccionari buit\n",
      "    #per cada vegada que pugui llegir una l\u00ednia (un id) del fitxer executa el loop sencer\n",
      "    for img in images:\n",
      "        #guarda a la posici\u00f3 'img' del diccionari (una id que ha llegit) un vector que retorna la funcio que extreu caracter\u00edstiques\n",
      "        diccionari.update({img: extraccio_caract(img)}) \n",
      "\n",
      "    images.close()\n",
      "    with open(dir_out+'/diccionari.pickle', 'wb') as dic:\n",
      "      pickle.dump(diccionari, dic)\n",
      "    return;"
     ],
     "language": "python",
     "metadata": {},
     "outputs": [],
     "prompt_number": 78
    },
    {
     "cell_type": "code",
     "collapsed": true,
     "input": [],
     "language": "python",
     "metadata": {},
     "outputs": [],
     "prompt_number": null
    }
   ],
   "metadata": {}
  }
 ]
}