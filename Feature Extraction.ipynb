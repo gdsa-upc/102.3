{
 "cells": [
  {
   "cell_type": "code",
   "execution_count": 49,
   "metadata": {
    "collapsed": true
   },
   "outputs": [],
   "source": [
    "import numpy as np\n",
    "import pickle"
   ]
  },
  {
   "cell_type": "code",
   "execution_count": 65,
   "metadata": {
    "collapsed": true
   },
   "outputs": [],
   "source": [
    "def extraccio_caract(str):\n",
    "    features=np.random.random_integers(0,100,(1,100))\n",
    "    return features;"
   ]
  },
  {
   "cell_type": "code",
   "execution_count": 78,
   "metadata": {
    "collapsed": false
   },
   "outputs": [],
   "source": [
    "#def Feature_extraction(dir_imatges, IDs_file, dir_out):\n",
    "def Feature_extraction(IDs_file, dir_out):\n",
    "    #comença la inserció al diccionari\n",
    "    images=open(IDs_file, \"r\") #obre l'arxiu on hi ha les id's en mode lectura\n",
    "\n",
    "    diccionari={} #crea un diccionari buit\n",
    "    #per cada vegada que pugui llegir una línia (un id) del fitxer executa el loop sencer\n",
    "    for img in images:\n",
    "        i=img.rstrip('\\n')\n",
    "        #guarda a la posició 'img' del diccionari (una id que ha llegit) un vector que retorna la funcio que extreu característiques\n",
    "        diccionari.update({i: extraccio_caract(img)}) \n",
    "\n",
    "    images.close()\n",
    "    with open(dir_out+'/diccionari.pickle', 'wb') as dic:\n",
    "      pickle.dump(diccionari, dic)\n",
    "    return;"
   ]
  },
  {
   "cell_type": "code",
   "execution_count": null,
   "metadata": {
    "collapsed": true
   },
   "outputs": [],
   "source": []
  }
 ],
 "metadata": {
  "kernelspec": {
   "display_name": "Python 2",
   "language": "python",
   "name": "python2"
  },
  "language_info": {
   "codemirror_mode": {
    "name": "ipython",
    "version": 2
   },
   "file_extension": ".py",
   "mimetype": "text/x-python",
   "name": "python",
   "nbconvert_exporter": "python",
   "pygments_lexer": "ipython2",
   "version": "2.7.9"
  }
 },
 "nbformat": 4,
 "nbformat_minor": 0
}
