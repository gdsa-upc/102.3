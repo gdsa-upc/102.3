{
 "cells": [
  {
   "cell_type": "code",
   "execution_count": 31,
   "metadata": {
    "collapsed": true
   },
   "outputs": [],
   "source": [
    "import numpy as np"
   ]
  },
  {
   "cell_type": "code",
   "execution_count": 32,
   "metadata": {
    "collapsed": true
   },
   "outputs": [],
   "source": [
    "def extraccio_caract(str):\n",
    "    features=np.random.random_integers(0,100,(1,100))\n",
    "    return features;"
   ]
  },
  {
   "cell_type": "code",
   "execution_count": 33,
   "metadata": {
    "collapsed": false
   },
   "outputs": [],
   "source": [
    "#comença la inserció al diccionari\n",
    "images=open(\"arxiu.txt\", \"r\") #obre l'arxiu on hi ha les id's en mode lectura"
   ]
  },
  {
   "cell_type": "code",
   "execution_count": 34,
   "metadata": {
    "collapsed": true
   },
   "outputs": [],
   "source": [
    "diccionari={} #crea un diccionari buit"
   ]
  },
  {
   "cell_type": "code",
   "execution_count": 35,
   "metadata": {
    "collapsed": false
   },
   "outputs": [],
   "source": [
    "#per cada vegada que pugui llegir una línia (un id) del fitxer executa el loop sencer\n",
    "for img in images:\n",
    "    #guarda a la posició 'img' del diccionari (una id que ha llegit) un vector que retorna la funcio que extreu característiques\n",
    "    diccionari.update({img: extraccio_caract(img)}) "
   ]
  },
  {
   "cell_type": "code",
   "execution_count": 36,
   "metadata": {
    "collapsed": true
   },
   "outputs": [],
   "source": [
    "images.close()"
   ]
  },
  {
   "cell_type": "code",
   "execution_count": 37,
   "metadata": {
    "collapsed": false
   },
   "outputs": [
    {
     "name": "stdout",
     "output_type": "stream",
     "text": [
      "{'47\\n': array([[78, 58, 88, 18, 38, 42,  6, 43, 89, 66, 24, 67, 60, 91, 85, 84, 68,\n",
      "        66,  6, 90, 52, 63, 28, 76, 36, 24, 42,  3,  9, 23, 86, 95, 96, 92,\n",
      "        58, 31, 85, 67, 76,  0, 33, 56, 62, 82, 46, 65, 70, 28, 11, 98, 68,\n",
      "        24, 63, 42, 93, 35, 74, 55, 75, 86, 46, 63, 46, 82, 96, 47, 22,  9,\n",
      "        39,  9, 12, 10, 59, 30, 25, 85, 76, 69, 44, 48, 93, 76, 19, 45, 43,\n",
      "        97, 79, 48, 86, 24, 12, 99, 30, 75, 37, 94, 33, 36, 57, 85]]), '48\\n': array([[ 38,  62,  17,  57, 100,  79,  40,   1,  13,  61,  79,  61,  50,\n",
      "         79,   7,  34,  23,  79,  18,  54,  41,  24,  32,  45,  62,  22,\n",
      "         15,  23,  30,  91,  82,   3,  44,   7,  44,  71,  82,  48,  88,\n",
      "         21,  34,  87,  32,  76,  24,   3,  21,  50,  49,  87,  26,  57,\n",
      "         32,  14,  99,  77,  78,  64,  30,  46,  11,  37,  68,  14,   7,\n",
      "         97,  33,  69,  76,  98,  15,  82,  82,  58,  60,  59,  95,  72,\n",
      "         96,  16,  16,  94,  58,  82,  50,  62,  52,  60,  89,   3,  86,\n",
      "         31,  35,   7,  40,  64, 100,  49,  66,  25]]), '23\\n': array([[ 12,  16,  33,  64,  68,  91,  70,  32,  45,  39,  63,  61,  55,\n",
      "         36,  47, 100,  67,  61,  98,   5,  24,  94,  55,   0,  51,  98,\n",
      "         77,  24,  74,  64,  43,  26,  55,  83,  97,  29,  41,  91,   4,\n",
      "         40,  34,  33,  50,  49,  57,  53,   8,  95,  40,  18,  84,  34,\n",
      "         82,  34,  58,  52,  81,   1,  62,   5,  27,  83,  58,  97,  60,\n",
      "          4,  67,  53,  77,  12,  10,   2,  12,  27,  40,  48,  15,  57,\n",
      "         87,   0,  27,  28,  67,  85,  82,  31,  12,  49,  56,  76,  74,\n",
      "         65,  77,  96,  37,  44,  95,  24,  97,   3]]), '69\\n': array([[ 99,  70,  84,  46,  10,  52,  41,  56,  22,  75,  21,  83,  23,\n",
      "         95,  91,  33,  28,  22,  29,   3,  88,  23,  33,  18,  80,  54,\n",
      "          9,  10,  55,  10,  64,   4,  49,   6,  74,  32,  53,  83,  18,\n",
      "         90,  74,   7,  96,  27,  93,  87,   0,  41,  40,  72,  42,   0,\n",
      "         44,  66,  67,  42,  42,  25,   6,  31,   8,  26,  60,  44,  78,\n",
      "         53,  53,  77,  54,  47,   3,  79,  79,  98,   8,  79,   2,  66,\n",
      "         69,  74,  68, 100,  75,  70,  88,  41,  99,  80,  16,  53,  50,\n",
      "         39,  83,  25,  67,  60,  54,  82,  95,  83]]), '59\\n': array([[ 71,  15,  63,  16,  97,  22,  88,  23, 100,  76,  30,  24,  24,\n",
      "         37,  75,  43,  62,  69,  72,  53,  70,  83,   7,  76,  70,  60,\n",
      "         41,  67,  94,  92,  53,  83,  31,  57,  59,  75,  90,  51,  11,\n",
      "         16,  74,  87,  31,  58,  65,  32,  99,   7,  11,  41,  73,  75,\n",
      "          0,  16,  48,  39,  68,  33,  82,   0,  77,  13,  32,  41,  52,\n",
      "         59,  65,  93,  30,  89,  98,  20,  46,  16,  72,  77,  76,  59,\n",
      "         47,  55,  70,  56,  29,  44,  30,  71,  66,  40,  22,  14,  18,\n",
      "         53,  28,  61,  32,  32,  48,  81,  88,  66]]), '65\\n': array([[55, 72, 75, 75, 78, 20, 31, 16, 10, 90, 61, 38, 25, 22, 28, 60, 61,\n",
      "        57, 53, 25, 67,  9, 83, 44, 86, 47,  4, 66, 46, 46, 91, 31, 95, 81,\n",
      "         7, 31, 66, 39, 18, 49, 94, 69, 68, 76, 74, 55, 73, 54, 22, 94, 65,\n",
      "        86, 19, 83, 49, 77, 44, 77, 19,  6, 77, 38, 88, 34, 14, 29, 28, 76,\n",
      "        53, 70, 59,  3, 99, 11, 27, 53, 69, 53,  3,  5, 46, 35, 32, 37, 54,\n",
      "        48,  0, 44, 86,  6, 66, 17, 39, 32,  5, 86, 45, 66, 13, 96]]), '58': array([[21, 80, 65, 23, 11, 85, 43, 75, 36, 41, 27, 77, 16, 83, 94, 44, 37,\n",
      "        60, 77, 63, 28, 39, 24, 62, 92, 63, 99, 40, 60, 60, 63, 19, 22, 26,\n",
      "        27, 61, 46, 91, 59, 52,  5, 57, 62, 32, 17, 97, 97, 43, 72,  3, 13,\n",
      "        61, 69,  1, 53,  6, 64, 74, 64, 46, 95, 33, 21, 40, 51, 43, 76, 40,\n",
      "        62, 23, 87, 40, 34, 70, 73, 58, 97, 36, 27, 11, 94, 61,  3, 51, 22,\n",
      "        25, 36, 79, 75,  9, 27, 72, 96, 53, 65, 67, 27, 90, 31,  0]])}\n"
     ]
    }
   ],
   "source": [
    "print diccionari"
   ]
  },
  {
   "cell_type": "code",
   "execution_count": null,
   "metadata": {
    "collapsed": true
   },
   "outputs": [],
   "source": []
  }
 ],
 "metadata": {
  "kernelspec": {
   "display_name": "Python 2",
   "language": "python",
   "name": "python2"
  },
  "language_info": {
   "codemirror_mode": {
    "name": "ipython",
    "version": 2
   },
   "file_extension": ".py",
   "mimetype": "text/x-python",
   "name": "python",
   "nbconvert_exporter": "python",
   "pygments_lexer": "ipython2",
   "version": "2.7.9"
  }
 },
 "nbformat": 4,
 "nbformat_minor": 0
}
