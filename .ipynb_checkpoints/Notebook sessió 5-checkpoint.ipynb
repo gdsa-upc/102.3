{
 "cells": [
  {
   "cell_type": "markdown",
   "metadata": {},
   "source": [
    "GDSA 2015: Sessió 5."
   ]
  },
  {
   "cell_type": "markdown",
   "metadata": {},
   "source": [
    "En aquest Notebook es mostraràn els resultats obtinguts amb les funcions fetes en la sesió 4 del projecte. Aquestes funcions son: Parameters, get_local_features, train_codebook, get_assignments y build_bow. Totes aquestes sub-funcions es fan servir dins de la funció Feature_extraction."
   ]
  },
  {
   "cell_type": "markdown",
   "metadata": {},
   "source": [
    "Parameters: Aquesta funció ens permet agafar els paths dels fitxes i imatges que fem servir a les nostres funcions."
   ]
  },
  {
   "cell_type": "code",
   "execution_count": 5,
   "metadata": {
    "collapsed": false
   },
   "outputs": [],
   "source": [
    "import os\n",
    "import numpy as np\n",
    "import pandas as p\n",
    "#sys.path.insert(0,'E:/universidad/GDSA/proyecto/102.3')\n",
    "from Parametres import parametres\n",
    "from Parametres import crea_dirs\n",
    "from Parametres import crea_nou_dir\n",
    "param = parametres()"
   ]
  },
  {
   "cell_type": "code",
   "execution_count": 6,
   "metadata": {
    "collapsed": false
   },
   "outputs": [
    {
     "data": {
      "text/plain": [
       "{'Possibles_edificis': array(['ajuntament', 'castell_cartoixa', 'catedral', 'desconegut',\n",
       "        'dona_treballadora', 'escola_enginyeria', 'estacio_nord',\n",
       "        'farmacia_albinyana', 'masia_freixa', 'mercat_independencia',\n",
       "        'mnactec', 'societat_general', 'teatre_principal'], dtype=object),\n",
       " 'arrel_entrada': 'E:/universidad/GDSA/proyecto',\n",
       " 'arrel_sortida': 'E:/universidad/GDSA/proyecto/carpeta de pruebas',\n",
       " 'bd_imatges': 'Terrassabuildings900/Terrassabuildings900',\n",
       " 'mida_descriptor': 10}"
      ]
     },
     "execution_count": 6,
     "metadata": {},
     "output_type": "execute_result"
    }
   ],
   "source": [
    "param"
   ]
  },
  {
   "cell_type": "markdown",
   "metadata": {
    "collapsed": true
   },
   "source": [
    "get_local_features: Amb aquesta funció obtenim els descriptors locals de les imatges."
   ]
  },
  {
   "cell_type": "code",
   "execution_count": 7,
   "metadata": {
    "collapsed": false
   },
   "outputs": [],
   "source": [
    "from Parametres import parametres\n",
    "import cv2\n",
    "from get_local_features_orb import get_local_features_orb\n",
    "kp,desc = get_local_features_orb('294-22479-6089.jpg')"
   ]
  },
  {
   "cell_type": "code",
   "execution_count": 8,
   "metadata": {
    "collapsed": false
   },
   "outputs": [
    {
     "data": {
      "text/plain": [
       "(20, 20)"
      ]
     },
     "execution_count": 8,
     "metadata": {},
     "output_type": "execute_result"
    }
   ],
   "source": [
    "len(kp),len(desc)"
   ]
  },
  {
   "cell_type": "markdown",
   "metadata": {},
   "source": [
    "Aquesta es la longitud de les variables que ens retorna la funció. Nombre de punts i nombre de descriptors."
   ]
  },
  {
   "cell_type": "markdown",
   "metadata": {},
   "source": [
    "train_codebook: A partir de les dades d'entrenament generem els diferents clusters que posteriorment utilitzarem per classificar les imatges"
   ]
  },
  {
   "cell_type": "code",
   "execution_count": 9,
   "metadata": {
    "collapsed": false
   },
   "outputs": [],
   "source": [
    "from sklearn.cluster import MiniBatchKMeans\n",
    "from codebook import train_codebook\n",
    "nc = 20\n",
    "codebook = train_codebook(desc,nc)"
   ]
  },
  {
   "cell_type": "code",
   "execution_count": 10,
   "metadata": {
    "collapsed": false
   },
   "outputs": [
    {
     "data": {
      "text/plain": [
       "MiniBatchKMeans(batch_size=100, compute_labels=True, init='k-means++',\n",
       "        init_size=None, max_iter=100, max_no_improvement=10, n_clusters=20,\n",
       "        n_init=3, random_state=None, reassignment_ratio=0.01, tol=0.0,\n",
       "        verbose=0)"
      ]
     },
     "execution_count": 10,
     "metadata": {},
     "output_type": "execute_result"
    }
   ],
   "source": [
    "codebook"
   ]
  },
  {
   "cell_type": "markdown",
   "metadata": {},
   "source": [
    "get_assignments: Assigna a cada descriptor un cluster"
   ]
  },
  {
   "cell_type": "code",
   "execution_count": 11,
   "metadata": {
    "collapsed": false
   },
   "outputs": [],
   "source": [
    "from assignment import get_assignments\n",
    "code = get_assignments(desc, codebook)  "
   ]
  },
  {
   "cell_type": "code",
   "execution_count": 12,
   "metadata": {
    "collapsed": false
   },
   "outputs": [
    {
     "data": {
      "text/plain": [
       "array([ 7, 12, 17,  3, 15, 13, 18,  0,  8,  6, 16, 10,  4, 11, 14,  5,  2,\n",
       "        1, 19,  9])"
      ]
     },
     "execution_count": 12,
     "metadata": {},
     "output_type": "execute_result"
    }
   ],
   "source": [
    "code"
   ]
  },
  {
   "cell_type": "markdown",
   "metadata": {},
   "source": [
    "build_bow: Construeix un vector Back of Words normalitzat"
   ]
  },
  {
   "cell_type": "code",
   "execution_count": 13,
   "metadata": {
    "collapsed": false
   },
   "outputs": [],
   "source": [
    "from create_bow import build_bow\n",
    "from sklearn import preprocessing\n",
    "nc = 10\n",
    "c = build_bow(code,nc)"
   ]
  },
  {
   "cell_type": "code",
   "execution_count": 14,
   "metadata": {
    "collapsed": false
   },
   "outputs": [
    {
     "data": {
      "text/plain": [
       "array([ 0.31622777,  0.31622777,  0.31622777,  0.31622777,  0.31622777,\n",
       "        0.31622777,  0.31622777,  0.31622777,  0.31622777,  0.31622777])"
      ]
     },
     "execution_count": 14,
     "metadata": {},
     "output_type": "execute_result"
    }
   ],
   "source": [
    "c"
   ]
  },
  {
   "cell_type": "markdown",
   "metadata": {},
   "source": [
    "Feature_extraction: Crea el fitxers picle de la base de dades de entrenament i validació"
   ]
  },
  {
   "cell_type": "code",
   "execution_count": 15,
   "metadata": {
    "collapsed": false
   },
   "outputs": [],
   "source": [
    "from codebook import train_codebook\n",
    "from Parametres import parametres\n",
    "from assignment import get_assignments\n",
    "from get_local_features_orb import get_local_features_orb\n",
    "from create_bow import build_bow\n",
    "#from get_local_features_sift import get_local_features_sift\n",
    "from build_database import build_database\n",
    "import numpy as np\n",
    "import os \n",
    "from Feature_Extraction import Feature_extraction\n",
    "\n",
    "Feature_extraction()"
   ]
  },
  {
   "cell_type": "markdown",
   "metadata": {
    "collapsed": true
   },
   "source": [
    "Rank: Genera un ranking a partir dels archius pickle generats a Feature_Extraction. "
   ]
  },
  {
   "cell_type": "code",
   "execution_count": 16,
   "metadata": {
    "collapsed": false
   },
   "outputs": [],
   "source": [
    "import collections\n",
    "import pickle\n",
    "from scipy.spatial import distance\n",
    "from rank import rank\n",
    "rank()"
   ]
  },
  {
   "cell_type": "markdown",
   "metadata": {},
   "source": [
    "Evaluate_Ranking: Evalua els resultats obtinguts a la funció rank."
   ]
  },
  {
   "cell_type": "code",
   "execution_count": 17,
   "metadata": {
    "collapsed": false
   },
   "outputs": [
    {
     "name": "stdout",
     "output_type": "stream",
     "text": [
      "mean average precision=\n",
      "0.239211565886\n",
      "\n",
      "\n"
     ]
    },
    {
     "data": {
      "text/plain": [
       "[0.38946960898180416,\n",
       " 0.06771852475155773,\n",
       " 0.1019241117870686,\n",
       " 0.31692351879677866,\n",
       " 0.1515037765037765,\n",
       " 0.2244722972615075,\n",
       " 0.12322660216495832,\n",
       " 0.4252246880700033,\n",
       " 0.3814917311113388,\n",
       " 0.05861244019138756,\n",
       " 0.0813840155945419,\n",
       " 0.5481363092986513,\n",
       " 0.1677512705602456,\n",
       " 0.10497835497835498,\n",
       " 0.14562130434310885,\n",
       " 0.25258143622041435,\n",
       " 0.0665546218487395,\n",
       " 0.40383022774327115,\n",
       " 0.42054337236713796,\n",
       " 0.5152905373493609,\n",
       " 0.022727272727272728,\n",
       " 0.35837542727420807,\n",
       " 0.16868092691622105,\n",
       " 0.2874740868798002,\n",
       " 0.31365392977525064,\n",
       " 0.4397531980947784,\n",
       " 0.5178567963044032,\n",
       " 0.16666666666666666,\n",
       " 0.4781315474814507,\n",
       " 0.345530303030303,\n",
       " 0.31206823027718544,\n",
       " 0.09990253411306042,\n",
       " 0.2749404761904762,\n",
       " 0.3103252795371022,\n",
       " 0.10545032291041231,\n",
       " 0.18740421069613616,\n",
       " 0.3242279708437006,\n",
       " 0.21735004384657297,\n",
       " 0.05615942028985507,\n",
       " 0.35527928457189595,\n",
       " 0.14286367324616622,\n",
       " 0.7015297202797202,\n",
       " 0.060764235764235765,\n",
       " 0.0711921172762486,\n",
       " 0.3180274369553381,\n",
       " 0.36543601457103175,\n",
       " 0.038980509745127435,\n",
       " 0.08253246409230655,\n",
       " 0.05349751697577785,\n",
       " 0.2713159345288499,\n",
       " 0.10416805677613948,\n",
       " 0.27056880322637084,\n",
       " 0.049516908212560384,\n",
       " 0.2686747897776416,\n",
       " 0.3907241884876569,\n",
       " 0.11372549019607844,\n",
       " 0.4684162663817831,\n",
       " 0.12258291857082179,\n",
       " 0.3728652407296278,\n",
       " 0.3364768501168873,\n",
       " 0.42077542289267394,\n",
       " 0.05419283919858292,\n",
       " 0.0960047141512269,\n",
       " 0.08114635825618188,\n",
       " 0.33182779374770915,\n",
       " 0.02413984461709212,\n",
       " 0.13138528138528138,\n",
       " 0.1742552549040966,\n",
       " 0.31703675716496227,\n",
       " 0.25825874684031536,\n",
       " 0.49807796988039466,\n",
       " 0.37711593430932233,\n",
       " 0.4471888129679471,\n",
       " 0.37096174458013165,\n",
       " 0.18674603174603174,\n",
       " 0.07474318446776074,\n",
       " 0.06979555344150239,\n",
       " 0.5878552457247387,\n",
       " 0.07878514482771741,\n",
       " 0.02262720156555773,\n",
       " 0.41761415203777874,\n",
       " 0.046878046878046885,\n",
       " 0.3572139472054386,\n",
       " 0.3562931839402427,\n",
       " 0.2998985570877465,\n",
       " 0.08541675867991658,\n",
       " 0.0964950690903504,\n",
       " 0.2794719988436877,\n",
       " 0.08090034873216949,\n",
       " 0.3987172600369293,\n",
       " 0.52,\n",
       " 0.11197883597883598,\n",
       " 0.33508348146127637,\n",
       " 0.09259918448629782,\n",
       " 0.1164523692165463,\n",
       " 0.357074972502982,\n",
       " 0.26237736900780384,\n",
       " 0.03934539755435277,\n",
       " 0.34675915656675615,\n",
       " 0.13210353469881603,\n",
       " 0.0816905615292712,\n",
       " 0.15672814465804966,\n",
       " 0.43384827619309485,\n",
       " 0.16108706108706108,\n",
       " 0.3503703703703704,\n",
       " 0.013513513513513514,\n",
       " 0.3829628704628704,\n",
       " 0.05489507102410328,\n",
       " 0.24085197013018225,\n",
       " 0.3333424295150953,\n",
       " 0.11139660817080173,\n",
       " 0.12828243171767736,\n",
       " 0.14719298245614035,\n",
       " 0.06429190778135258,\n",
       " 0.04720721444859376,\n",
       " 0.08018207282913166,\n",
       " 0.09161964161964162,\n",
       " 0.125,\n",
       " 0.13207617277373468,\n",
       " 0.4233731759441068,\n",
       " 0.4063583778065028,\n",
       " 0.06622495151906917,\n",
       " 0.2849065029620585,\n",
       " 0.33258984395747676,\n",
       " 0.27810341980423947,\n",
       " 0.35107712124793067,\n",
       " 0.12929778554778557,\n",
       " 0.1865719075427349,\n",
       " 0.3618861946364703,\n",
       " 0.364891513775433,\n",
       " 0.28651455203976955,\n",
       " 0.49830618984847835,\n",
       " 0.13095238095238093,\n",
       " 0.06778347692885668,\n",
       " 0.3143868658574541,\n",
       " 0.04984392419175029,\n",
       " 0.2495866715861972,\n",
       " 0.2762984835419443,\n",
       " 0.11108418829030225,\n",
       " 0.4008294990494599,\n",
       " 0.02658158048113132,\n",
       " 0.3895084384214819,\n",
       " 0.4852112860789828,\n",
       " 0.5320877103312844,\n",
       " 0.0938209938209938,\n",
       " 0.5118518518518519,\n",
       " 0.18120366278379488,\n",
       " 0.1572810334825754,\n",
       " 0.051904068471574194,\n",
       " 0.030818323427551687,\n",
       " 0.4854361877387539,\n",
       " 0.05110086442449285,\n",
       " 0.14652656690992716,\n",
       " 0.06437364645195971,\n",
       " 0.46335516635655893,\n",
       " 0.06851270095223622,\n",
       " 0.17239130434782607,\n",
       " 0.3603467324330123,\n",
       " 0.49081575444690184,\n",
       " 0.10405797101449277,\n",
       " 0.3371386299585649,\n",
       " 0.3374593137486436,\n",
       " 0.32861836876608946,\n",
       " 0.10378238910847606,\n",
       " 0.36044393820122905,\n",
       " 0.07105647671685407,\n",
       " 0.6656410256410257,\n",
       " 0.06162842241273614,\n",
       " 0.3068722804020774,\n",
       " 0.3655686439801661,\n",
       " 0.18562753036437246,\n",
       " 0.3506490942523562,\n",
       " 0.10410081112885705,\n",
       " 0.10065789473684211,\n",
       " 0.06567870994080424,\n",
       " 0.2809947946790052,\n",
       " 0.08857791378716331,\n",
       " 0.38384893630357353,\n",
       " 0.6015814251108369,\n",
       " 0.15491381371369461]"
      ]
     },
     "execution_count": 17,
     "metadata": {},
     "output_type": "execute_result"
    }
   ],
   "source": [
    "import os \n",
    "from Parametres import parametres\n",
    "from evaluate_ranking import evaluate_ranking\n",
    "\n",
    "evaluate_ranking()"
   ]
  }
 ],
 "metadata": {
  "kernelspec": {
   "display_name": "Python 2",
   "language": "python",
   "name": "python2"
  },
  "language_info": {
   "codemirror_mode": {
    "name": "ipython",
    "version": 2
   },
   "file_extension": ".py",
   "mimetype": "text/x-python",
   "name": "python",
   "nbconvert_exporter": "python",
   "pygments_lexer": "ipython2",
   "version": "2.7.9"
  }
 },
 "nbformat": 4,
 "nbformat_minor": 0
}
