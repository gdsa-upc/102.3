{
 "cells": [
  {
   "cell_type": "code",
   "execution_count": 11,
   "metadata": {
    "collapsed": true
   },
   "outputs": [],
   "source": [
    "import random\n",
    "import pickle\n",
    "def rank(query_features,train_features,outdir):\n",
    "    ft_in = open(train_features,'rb')#abrimos el fichero pickle de entrenamiento\n",
    "    train =pickle.load(ft_in)\n",
    "    fq_in = open(query_features,'rb')#abrimos el fichero pickle del query\n",
    "    rango = pickle.load(fq_in)\n",
    "    for i in rango.keys():#The method keys() retorna una llista de totes les claus disponibles al diccionari\n",
    "        output = open(outdir+'/'+i+'.txt','w')#ficheros de salida \n",
    "        for j in train.keys():\n",
    "            output.write(random.choice(train.keys())+'\\n')#The method choice() retorna un element aleatòri d'una llista\n",
    "        output.close()\n",
    "    ft_in.close()\n",
    "    fq_in.close()"
   ]
  },
  {
   "cell_type": "code",
   "execution_count": null,
   "metadata": {
    "collapsed": true
   },
   "outputs": [],
   "source": []
  }
 ],
 "metadata": {
  "kernelspec": {
   "display_name": "Python 2",
   "language": "python",
   "name": "python2"
  },
  "language_info": {
   "codemirror_mode": {
    "name": "ipython",
    "version": 2
   },
   "file_extension": ".py",
   "mimetype": "text/x-python",
   "name": "python",
   "nbconvert_exporter": "python",
   "pygments_lexer": "ipython2",
   "version": "2.7.9"
  }
 },
 "nbformat": 4,
 "nbformat_minor": 0
}
