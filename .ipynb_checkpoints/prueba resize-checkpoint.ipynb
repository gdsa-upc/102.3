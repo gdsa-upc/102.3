{
 "metadata": {
  "name": "",
  "signature": "sha256:4280174074633ee258b4bd7afaa765e9115f03c0bdb9f23d8f96c170efdb84d9"
 },
 "nbformat": 3,
 "nbformat_minor": 0,
 "worksheets": []
}