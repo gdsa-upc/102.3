{
 "cells": [
  {
   "cell_type": "code",
   "execution_count": 7,
   "metadata": {
    "collapsed": false
   },
   "outputs": [],
   "source": [
    "import os\n",
    "\n",
    "def evaluate_ranking(indir,gtt, gtv):\n",
    "    f=open(gtt,'r') #obrim el fitxer ground truth del train i llegim l'interior\n",
    "    lines=f.read().split()\n",
    "    f.close()\n",
    "    dic_gtt={} #crea un diccionari amb la groud truth de train\n",
    "    for line in lines:\n",
    "        dic_gtt[line.split(\" \")[0]]=line.split(\" \")[1]\n",
    "        \n",
    "    f=open(gtv,'r') #fem el mateix amb els del tes o validació\n",
    "    lines=f.read().split()\n",
    "    f.close()\n",
    "    dic_gt={} #crea un diccionari amb la ground truth de validació o test\n",
    "    for line in lines:\n",
    "        dic_gtv[line.split(\" \")[0]]=line.split(\" \")[1]\n",
    "       \n",
    "    ranks = os.listdir(indir)  #llegeixo tots els noms dels fitxers del directori d'entrada i els guarda a ranks\n",
    "    sumap=0 #suma dels average precisions\n",
    "    contr=0\n",
    "    for r in ranks: \n",
    "        #llegeix els resultats de cada rank\n",
    "        contr=contr+1\n",
    "        c=dic_gtv[r]\n",
    "        f=open(indir+'/'+r+'.txt')\n",
    "        lines=f.read.split()\n",
    "        f.close()\n",
    "        cont=0 #comptador de resultats\n",
    "        ce=0 #comptador de resultats encertats\n",
    "        sump=0 #suma de precisions\n",
    "        for l in lines:\n",
    "            cont=cont+1\n",
    "            if dic_gtt[l]==c:\n",
    "                ce=ce+1\n",
    "                sump=sump+(cap/cont)\n",
    "        ap=sump/ce\n",
    "        sumap=sumap+ap\n",
    "        print r+' average precision='+ap+'\\n'\n",
    "    print 'mean average precision='+sumap/r+'\\n'"
   ]
  },
  {
   "cell_type": "code",
   "execution_count": 8,
   "metadata": {
    "collapsed": false
   },
   "outputs": [
    {
     "ename": "IndexError",
     "evalue": "list index out of range",
     "output_type": "error",
     "traceback": [
      "\u001b[1;31m---------------------------------------------------------------------------\u001b[0m",
      "\u001b[1;31mIndexError\u001b[0m                                Traceback (most recent call last)",
      "\u001b[1;32m<ipython-input-8-ddb903e8b801>\u001b[0m in \u001b[0;36m<module>\u001b[1;34m()\u001b[0m\n\u001b[1;32m----> 1\u001b[1;33m \u001b[0mevaluate_ranking\u001b[0m\u001b[1;33m(\u001b[0m\u001b[1;34m'C:/Users/Ariadna/Documents/GitHub/102.3/ranks'\u001b[0m\u001b[1;33m,\u001b[0m\u001b[1;34m'C:/Users/Ariadna/Desktop/train_annotation.txt'\u001b[0m\u001b[1;33m,\u001b[0m\u001b[1;34m'C:/Users/Ariadna/Desktop/val_annotation.txt'\u001b[0m\u001b[1;33m)\u001b[0m\u001b[1;33m\u001b[0m\u001b[0m\n\u001b[0m",
      "\u001b[1;32m<ipython-input-7-a7e704a88dfb>\u001b[0m in \u001b[0;36mevaluate_ranking\u001b[1;34m(indir, gtt, gtv)\u001b[0m\n\u001b[0;32m      7\u001b[0m     \u001b[0mdic_gtt\u001b[0m\u001b[1;33m=\u001b[0m\u001b[1;33m{\u001b[0m\u001b[1;33m}\u001b[0m \u001b[1;31m#crea un diccionari amb la groud truth de train\u001b[0m\u001b[1;33m\u001b[0m\u001b[0m\n\u001b[0;32m      8\u001b[0m     \u001b[1;32mfor\u001b[0m \u001b[0mline\u001b[0m \u001b[1;32min\u001b[0m \u001b[0mlines\u001b[0m\u001b[1;33m:\u001b[0m\u001b[1;33m\u001b[0m\u001b[0m\n\u001b[1;32m----> 9\u001b[1;33m         \u001b[0mdic_gtt\u001b[0m\u001b[1;33m[\u001b[0m\u001b[0mline\u001b[0m\u001b[1;33m.\u001b[0m\u001b[0msplit\u001b[0m\u001b[1;33m(\u001b[0m\u001b[1;34m\" \"\u001b[0m\u001b[1;33m)\u001b[0m\u001b[1;33m[\u001b[0m\u001b[1;36m0\u001b[0m\u001b[1;33m]\u001b[0m\u001b[1;33m]\u001b[0m\u001b[1;33m=\u001b[0m\u001b[0mline\u001b[0m\u001b[1;33m.\u001b[0m\u001b[0msplit\u001b[0m\u001b[1;33m(\u001b[0m\u001b[1;34m\" \"\u001b[0m\u001b[1;33m)\u001b[0m\u001b[1;33m[\u001b[0m\u001b[1;36m1\u001b[0m\u001b[1;33m]\u001b[0m\u001b[1;33m\u001b[0m\u001b[0m\n\u001b[0m\u001b[0;32m     10\u001b[0m \u001b[1;33m\u001b[0m\u001b[0m\n\u001b[0;32m     11\u001b[0m     \u001b[0mf\u001b[0m\u001b[1;33m=\u001b[0m\u001b[0mopen\u001b[0m\u001b[1;33m(\u001b[0m\u001b[0mgtv\u001b[0m\u001b[1;33m,\u001b[0m\u001b[1;34m'r'\u001b[0m\u001b[1;33m)\u001b[0m \u001b[1;31m#fem el mateix amb els del tes o validació\u001b[0m\u001b[1;33m\u001b[0m\u001b[0m\n",
      "\u001b[1;31mIndexError\u001b[0m: list index out of range"
     ]
    }
   ],
   "source": [
    "evaluate_ranking('C:/Users/Ariadna/Documents/GitHub/102.3/ranks','C:/Users/Ariadna/Desktop/train_annotation.txt','C:/Users/Ariadna/Desktop/val_annotation.txt')"
   ]
  },
  {
   "cell_type": "code",
   "execution_count": null,
   "metadata": {
    "collapsed": true
   },
   "outputs": [],
   "source": []
  }
 ],
 "metadata": {
  "kernelspec": {
   "display_name": "Python 2",
   "language": "python",
   "name": "python2"
  },
  "language_info": {
   "codemirror_mode": {
    "name": "ipython",
    "version": 2
   },
   "file_extension": ".py",
   "mimetype": "text/x-python",
   "name": "python",
   "nbconvert_exporter": "python",
   "pygments_lexer": "ipython2",
   "version": "2.7.9"
  }
 },
 "nbformat": 4,
 "nbformat_minor": 0
}
