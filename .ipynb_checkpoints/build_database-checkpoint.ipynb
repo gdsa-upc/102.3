{
 "cells": [
  {
   "cell_type": "code",
   "execution_count": 2,
   "metadata": {
    "collapsed": true
   },
   "outputs": [],
   "source": [
    "import os \n",
    "def build_database (indir,outdir): #definim la funció\n",
    "    images = os.listdir(indir)  #llegeixo tots els noms dels fitxers del directori d'entrada i els guarda a images\n",
    "    outfile = open(outdir+'/DB_Annotation.txt','w')   #crea el fitxer on escriu els id.\n",
    "    for file in images: #recorre tots els id i els escriu al fitxer\n",
    "        outfile.write(file[0:-4]+\"\\n\") \n",
    "    outfile.close()#tanca el fitxer"
   ]
  },
  {
   "cell_type": "code",
   "execution_count": null,
   "metadata": {
    "collapsed": true
   },
   "outputs": [],
   "source": []
  }
 ],
 "metadata": {
  "kernelspec": {
   "display_name": "Python 2",
   "language": "python",
   "name": "python2"
  },
  "language_info": {
   "codemirror_mode": {
    "name": "ipython",
    "version": 2
   },
   "file_extension": ".py",
   "mimetype": "text/x-python",
   "name": "python",
   "nbconvert_exporter": "python",
   "pygments_lexer": "ipython2",
   "version": "2.7.9"
  }
 },
 "nbformat": 4,
 "nbformat_minor": 0
}
