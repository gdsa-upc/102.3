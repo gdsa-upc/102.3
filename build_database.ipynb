{
 "metadata": {
  "kernelspec": {
   "display_name": "Python 2",
   "language": "python",
   "name": "python2"
  },
  "language_info": {
   "codemirror_mode": {
    "name": "ipython",
    "version": 2
   },
   "file_extension": ".py",
   "mimetype": "text/x-python",
   "name": "python",
   "nbconvert_exporter": "python",
   "pygments_lexer": "ipython2",
   "version": "2.7.9"
  },
  "name": "",
  "signature": "sha256:cef1552cbd57b72efe4138d307c8573a77b7ba1dbadcf9c482ffdf114f645a2a"
 },
 "nbformat": 3,
 "nbformat_minor": 0,
 "worksheets": [
  {
   "cells": [
    {
     "cell_type": "code",
     "collapsed": true,
     "input": [
      "import os "
     ],
     "language": "python",
     "metadata": {},
     "outputs": [],
     "prompt_number": 1
    },
    {
     "cell_type": "code",
     "collapsed": true,
     "input": [
      "def build_database (indir,outdir): #definim la funci\u00f3\n",
      "    images = os.listdir(indir)  #llegeixo tots els noms dels fitxers del directori d'entrada i els guarda a images\n",
      "    outfile = open(outdir+'/ID.txt','w')   #crea el fitxer on escriu els id.\n",
      "    for file in images: #recorre tots els id i els escriu al fitxer\n",
      "        outfile.write(file[0:-4]+\"\\n\") \n",
      "    outfile.close()#tanca el fitxer"
     ],
     "language": "python",
     "metadata": {},
     "outputs": [],
     "prompt_number": 1
    },
    {
     "cell_type": "code",
     "collapsed": false,
     "input": [],
     "language": "python",
     "metadata": {},
     "outputs": []
    }
   ],
   "metadata": {}
  }
 ]
}